{
 "cells": [
  {
   "cell_type": "code",
   "execution_count": 1,
   "metadata": {},
   "outputs": [],
   "source": [
    "# !pip install numpy\n",
    "# !pip install matplotlib\n",
    " "
   ]
  },
  {
   "cell_type": "code",
   "execution_count": 2,
   "metadata": {},
   "outputs": [
    {
     "name": "stderr",
     "output_type": "stream",
     "text": [
      "/var/folders/gg/gm8xvt3d6nq5bgsl60gj3q_80000gn/T/ipykernel_92024/3300700447.py:1: DeprecationWarning: Importing display from IPython.core.display is deprecated since IPython 7.14, please import from IPython display\n",
      "  from IPython.core.display import display, HTML\n"
     ]
    },
    {
     "data": {
      "text/html": [
       "<style>.container { width:100% !important; }</style>"
      ],
      "text/plain": [
       "<IPython.core.display.HTML object>"
      ]
     },
     "metadata": {},
     "output_type": "display_data"
    },
    {
     "data": {
      "text/html": [
       "<style>.output_result { max-width:100% !important; }</style>"
      ],
      "text/plain": [
       "<IPython.core.display.HTML object>"
      ]
     },
     "metadata": {},
     "output_type": "display_data"
    },
    {
     "data": {
      "text/html": [
       "<style>.prompt { display:none !important; }</style>"
      ],
      "text/plain": [
       "<IPython.core.display.HTML object>"
      ]
     },
     "metadata": {},
     "output_type": "display_data"
    }
   ],
   "source": [
    "from IPython.core.display import display, HTML\n",
    "display(HTML(\"<style>.container { width:100% !important; }</style>\"))\n",
    "display(HTML(\"<style>.output_result { max-width:100% !important; }</style>\"))\n",
    "display(HTML(\"<style>.prompt { display:none !important; }</style>\"))\n",
    "import numpy as np \n",
    "import matplotlib.pyplot as plt \n",
    "%matplotlib inline\n",
    "import os, math"
   ]
  },
  {
   "cell_type": "code",
   "execution_count": 15,
   "metadata": {},
   "outputs": [],
   "source": [
    "# num_train_sepsis_pat_win = 20\n",
    "# num_test_pat_septic_win = 5\n",
    "num_train_sepsis_pat_win = 2000\n",
    "num_test_pat_septic_win = 250\n",
    "num_steps = 100\n",
    "layer_sizes = [100,100]\n",
    "layer_n = True\n",
    "buffer_s = -1\n",
    "batch_size = 32\n",
    "lr = 1e-3\n",
    "beta = 0.1\n",
    "lambd0 = 0.1\n",
    "lambd = 1e-4\n",
    "# algo_group = 'approx-neural_cp'\n",
    "\n",
    "num_actions=2\n",
    "context_dim = 13\n",
    "data_type = 'sepsis'\n",
    "eps= 0.1\n",
    "policy_prefix = f'eps-greedy{eps}'\n",
    "noise_std = 0.01\n",
    "test_freq=10\n",
    "data_prefix = '{}_d={}_a={}_pi={}_std={}_testfreq={}'.format(data_type, context_dim, num_actions, policy_prefix, noise_std, test_freq)\n",
    "# res_dir = os.path.join(f'../neuralcb_results/trainwins_{num_train_sepsis_pat_win}_testwins_{num_test_pat_septic_win}', data_prefix) \n",
    "\n",
    "\n",
    "# res_dir = os.path.join('results', data_prefix) \n",
    "sim = 0\n",
    "\n",
    "res_dir = os.path.join(f'/Users/anniezhou/GaTech Dropbox/Anni Zhou/neuralcb_results_Mac/sim{sim}/trainSepticWins_{num_train_sepsis_pat_win}_testSepticWins_{num_test_pat_septic_win}[killed\\ for\\ unknown\\ reasons]/', data_prefix) \n",
    "# B=10\n",
    "B=25\n",
    "res_dir = os.path.join(f'/Users/anniezhou/GaTech Dropbox/Anni Zhou/neuralcb_results_Mac/sim{sim}/trainSepticWins_{num_train_sepsis_pat_win}_testSepticWins_{num_test_pat_septic_win}[killed for unknown reasons]/', data_prefix) "
   ]
  },
  {
   "cell_type": "code",
   "execution_count": 16,
   "metadata": {},
   "outputs": [
    {
     "data": {
      "text/plain": [
       "False"
      ]
     },
     "execution_count": 16,
     "metadata": {},
     "output_type": "execute_result"
    }
   ],
   "source": [
    "os.path.exists(res_dir)"
   ]
  },
  {
   "cell_type": "code",
   "execution_count": 4,
   "metadata": {},
   "outputs": [],
   "source": [
    "# !pip install pandas\n",
    "import pandas as pd"
   ]
  },
  {
   "cell_type": "code",
   "execution_count": 5,
   "metadata": {},
   "outputs": [
    {
     "ename": "FileNotFoundError",
     "evalue": "[Errno 2] No such file or directory: '/Users/anniezhou/GaTech Dropbox/Anni Zhou/neuralcb_results_prob_Mac/sim0/trainSepticWins_1000_testSepticWins_250[killed for unknown reasons]/sepsis_d=13_a=2_pi=eps-greedy0.1_std=0.01_testfreq=10/NeuralGreedyV2_cp-gridsearch_epochs=100_m=100_layern=True_buffer=-1_bs=32_lr=0.001_beta=0.1_lambda=0.0001_lambda0=0.1_B=10.csv'",
     "output_type": "error",
     "traceback": [
      "\u001b[0;31m---------------------------------------------------------------------------\u001b[0m",
      "\u001b[0;31mFileNotFoundError\u001b[0m                         Traceback (most recent call last)",
      "Cell \u001b[0;32mIn[5], line 50\u001b[0m\n\u001b[1;32m     47\u001b[0m     algo_prefix \u001b[38;5;241m=\u001b[39m \u001b[38;5;124mf\u001b[39m\u001b[38;5;124m'\u001b[39m\u001b[38;5;132;01m{\u001b[39;00malgo_group\u001b[38;5;132;01m}\u001b[39;00m\u001b[38;5;124m-gridsearch_epochs=\u001b[39m\u001b[38;5;132;01m{\u001b[39;00mnum_steps\u001b[38;5;132;01m}\u001b[39;00m\u001b[38;5;124m_m=\u001b[39m\u001b[38;5;132;01m{\u001b[39;00m\u001b[38;5;28mmin\u001b[39m(layer_sizes)\u001b[38;5;132;01m}\u001b[39;00m\u001b[38;5;124m_layern=\u001b[39m\u001b[38;5;132;01m{\u001b[39;00mlayer_n\u001b[38;5;132;01m}\u001b[39;00m\u001b[38;5;124m_buffer=\u001b[39m\u001b[38;5;132;01m{\u001b[39;00mbuffer_s\u001b[38;5;132;01m}\u001b[39;00m\u001b[38;5;124m_bs=\u001b[39m\u001b[38;5;132;01m{\u001b[39;00mbatch_size\u001b[38;5;132;01m}\u001b[39;00m\u001b[38;5;124m_lr=\u001b[39m\u001b[38;5;132;01m{\u001b[39;00mlr\u001b[38;5;132;01m}\u001b[39;00m\u001b[38;5;124m_beta=\u001b[39m\u001b[38;5;132;01m{\u001b[39;00mbeta\u001b[38;5;132;01m}\u001b[39;00m\u001b[38;5;124m_lambda=\u001b[39m\u001b[38;5;132;01m{\u001b[39;00mlambd\u001b[38;5;132;01m}\u001b[39;00m\u001b[38;5;124m_lambda0=\u001b[39m\u001b[38;5;132;01m{\u001b[39;00mlambd0\u001b[38;5;132;01m}\u001b[39;00m\u001b[38;5;124m.csv\u001b[39m\u001b[38;5;124m'\u001b[39m \n\u001b[1;32m     49\u001b[0m sepsis_path_cp \u001b[38;5;241m=\u001b[39m os\u001b[38;5;241m.\u001b[39mpath\u001b[38;5;241m.\u001b[39mjoin(res_dir, algo_prefix)   \n\u001b[0;32m---> 50\u001b[0m data_cp \u001b[38;5;241m=\u001b[39m \u001b[43mpd\u001b[49m\u001b[38;5;241;43m.\u001b[39;49m\u001b[43mread_csv\u001b[49m\u001b[43m(\u001b[49m\u001b[43msepsis_path_cp\u001b[49m\u001b[43m)\u001b[49m\n\u001b[1;32m     51\u001b[0m \u001b[38;5;66;03m# len2plot = int(len(data_cp)/num_split)\u001b[39;00m\n\u001b[1;32m     52\u001b[0m regrets_cp \u001b[38;5;241m=\u001b[39m data_cp[\u001b[38;5;124m'\u001b[39m\u001b[38;5;124mregrets\u001b[39m\u001b[38;5;124m'\u001b[39m][\u001b[38;5;241m0\u001b[39m:len2plot]\n",
      "File \u001b[0;32m/opt/anaconda3/envs/neuralcb/lib/python3.9/site-packages/pandas/io/parsers/readers.py:1026\u001b[0m, in \u001b[0;36mread_csv\u001b[0;34m(filepath_or_buffer, sep, delimiter, header, names, index_col, usecols, dtype, engine, converters, true_values, false_values, skipinitialspace, skiprows, skipfooter, nrows, na_values, keep_default_na, na_filter, verbose, skip_blank_lines, parse_dates, infer_datetime_format, keep_date_col, date_parser, date_format, dayfirst, cache_dates, iterator, chunksize, compression, thousands, decimal, lineterminator, quotechar, quoting, doublequote, escapechar, comment, encoding, encoding_errors, dialect, on_bad_lines, delim_whitespace, low_memory, memory_map, float_precision, storage_options, dtype_backend)\u001b[0m\n\u001b[1;32m   1013\u001b[0m kwds_defaults \u001b[38;5;241m=\u001b[39m _refine_defaults_read(\n\u001b[1;32m   1014\u001b[0m     dialect,\n\u001b[1;32m   1015\u001b[0m     delimiter,\n\u001b[0;32m   (...)\u001b[0m\n\u001b[1;32m   1022\u001b[0m     dtype_backend\u001b[38;5;241m=\u001b[39mdtype_backend,\n\u001b[1;32m   1023\u001b[0m )\n\u001b[1;32m   1024\u001b[0m kwds\u001b[38;5;241m.\u001b[39mupdate(kwds_defaults)\n\u001b[0;32m-> 1026\u001b[0m \u001b[38;5;28;01mreturn\u001b[39;00m \u001b[43m_read\u001b[49m\u001b[43m(\u001b[49m\u001b[43mfilepath_or_buffer\u001b[49m\u001b[43m,\u001b[49m\u001b[43m \u001b[49m\u001b[43mkwds\u001b[49m\u001b[43m)\u001b[49m\n",
      "File \u001b[0;32m/opt/anaconda3/envs/neuralcb/lib/python3.9/site-packages/pandas/io/parsers/readers.py:620\u001b[0m, in \u001b[0;36m_read\u001b[0;34m(filepath_or_buffer, kwds)\u001b[0m\n\u001b[1;32m    617\u001b[0m _validate_names(kwds\u001b[38;5;241m.\u001b[39mget(\u001b[38;5;124m\"\u001b[39m\u001b[38;5;124mnames\u001b[39m\u001b[38;5;124m\"\u001b[39m, \u001b[38;5;28;01mNone\u001b[39;00m))\n\u001b[1;32m    619\u001b[0m \u001b[38;5;66;03m# Create the parser.\u001b[39;00m\n\u001b[0;32m--> 620\u001b[0m parser \u001b[38;5;241m=\u001b[39m \u001b[43mTextFileReader\u001b[49m\u001b[43m(\u001b[49m\u001b[43mfilepath_or_buffer\u001b[49m\u001b[43m,\u001b[49m\u001b[43m \u001b[49m\u001b[38;5;241;43m*\u001b[39;49m\u001b[38;5;241;43m*\u001b[39;49m\u001b[43mkwds\u001b[49m\u001b[43m)\u001b[49m\n\u001b[1;32m    622\u001b[0m \u001b[38;5;28;01mif\u001b[39;00m chunksize \u001b[38;5;129;01mor\u001b[39;00m iterator:\n\u001b[1;32m    623\u001b[0m     \u001b[38;5;28;01mreturn\u001b[39;00m parser\n",
      "File \u001b[0;32m/opt/anaconda3/envs/neuralcb/lib/python3.9/site-packages/pandas/io/parsers/readers.py:1620\u001b[0m, in \u001b[0;36mTextFileReader.__init__\u001b[0;34m(self, f, engine, **kwds)\u001b[0m\n\u001b[1;32m   1617\u001b[0m     \u001b[38;5;28mself\u001b[39m\u001b[38;5;241m.\u001b[39moptions[\u001b[38;5;124m\"\u001b[39m\u001b[38;5;124mhas_index_names\u001b[39m\u001b[38;5;124m\"\u001b[39m] \u001b[38;5;241m=\u001b[39m kwds[\u001b[38;5;124m\"\u001b[39m\u001b[38;5;124mhas_index_names\u001b[39m\u001b[38;5;124m\"\u001b[39m]\n\u001b[1;32m   1619\u001b[0m \u001b[38;5;28mself\u001b[39m\u001b[38;5;241m.\u001b[39mhandles: IOHandles \u001b[38;5;241m|\u001b[39m \u001b[38;5;28;01mNone\u001b[39;00m \u001b[38;5;241m=\u001b[39m \u001b[38;5;28;01mNone\u001b[39;00m\n\u001b[0;32m-> 1620\u001b[0m \u001b[38;5;28mself\u001b[39m\u001b[38;5;241m.\u001b[39m_engine \u001b[38;5;241m=\u001b[39m \u001b[38;5;28;43mself\u001b[39;49m\u001b[38;5;241;43m.\u001b[39;49m\u001b[43m_make_engine\u001b[49m\u001b[43m(\u001b[49m\u001b[43mf\u001b[49m\u001b[43m,\u001b[49m\u001b[43m \u001b[49m\u001b[38;5;28;43mself\u001b[39;49m\u001b[38;5;241;43m.\u001b[39;49m\u001b[43mengine\u001b[49m\u001b[43m)\u001b[49m\n",
      "File \u001b[0;32m/opt/anaconda3/envs/neuralcb/lib/python3.9/site-packages/pandas/io/parsers/readers.py:1880\u001b[0m, in \u001b[0;36mTextFileReader._make_engine\u001b[0;34m(self, f, engine)\u001b[0m\n\u001b[1;32m   1878\u001b[0m     \u001b[38;5;28;01mif\u001b[39;00m \u001b[38;5;124m\"\u001b[39m\u001b[38;5;124mb\u001b[39m\u001b[38;5;124m\"\u001b[39m \u001b[38;5;129;01mnot\u001b[39;00m \u001b[38;5;129;01min\u001b[39;00m mode:\n\u001b[1;32m   1879\u001b[0m         mode \u001b[38;5;241m+\u001b[39m\u001b[38;5;241m=\u001b[39m \u001b[38;5;124m\"\u001b[39m\u001b[38;5;124mb\u001b[39m\u001b[38;5;124m\"\u001b[39m\n\u001b[0;32m-> 1880\u001b[0m \u001b[38;5;28mself\u001b[39m\u001b[38;5;241m.\u001b[39mhandles \u001b[38;5;241m=\u001b[39m \u001b[43mget_handle\u001b[49m\u001b[43m(\u001b[49m\n\u001b[1;32m   1881\u001b[0m \u001b[43m    \u001b[49m\u001b[43mf\u001b[49m\u001b[43m,\u001b[49m\n\u001b[1;32m   1882\u001b[0m \u001b[43m    \u001b[49m\u001b[43mmode\u001b[49m\u001b[43m,\u001b[49m\n\u001b[1;32m   1883\u001b[0m \u001b[43m    \u001b[49m\u001b[43mencoding\u001b[49m\u001b[38;5;241;43m=\u001b[39;49m\u001b[38;5;28;43mself\u001b[39;49m\u001b[38;5;241;43m.\u001b[39;49m\u001b[43moptions\u001b[49m\u001b[38;5;241;43m.\u001b[39;49m\u001b[43mget\u001b[49m\u001b[43m(\u001b[49m\u001b[38;5;124;43m\"\u001b[39;49m\u001b[38;5;124;43mencoding\u001b[39;49m\u001b[38;5;124;43m\"\u001b[39;49m\u001b[43m,\u001b[49m\u001b[43m \u001b[49m\u001b[38;5;28;43;01mNone\u001b[39;49;00m\u001b[43m)\u001b[49m\u001b[43m,\u001b[49m\n\u001b[1;32m   1884\u001b[0m \u001b[43m    \u001b[49m\u001b[43mcompression\u001b[49m\u001b[38;5;241;43m=\u001b[39;49m\u001b[38;5;28;43mself\u001b[39;49m\u001b[38;5;241;43m.\u001b[39;49m\u001b[43moptions\u001b[49m\u001b[38;5;241;43m.\u001b[39;49m\u001b[43mget\u001b[49m\u001b[43m(\u001b[49m\u001b[38;5;124;43m\"\u001b[39;49m\u001b[38;5;124;43mcompression\u001b[39;49m\u001b[38;5;124;43m\"\u001b[39;49m\u001b[43m,\u001b[49m\u001b[43m \u001b[49m\u001b[38;5;28;43;01mNone\u001b[39;49;00m\u001b[43m)\u001b[49m\u001b[43m,\u001b[49m\n\u001b[1;32m   1885\u001b[0m \u001b[43m    \u001b[49m\u001b[43mmemory_map\u001b[49m\u001b[38;5;241;43m=\u001b[39;49m\u001b[38;5;28;43mself\u001b[39;49m\u001b[38;5;241;43m.\u001b[39;49m\u001b[43moptions\u001b[49m\u001b[38;5;241;43m.\u001b[39;49m\u001b[43mget\u001b[49m\u001b[43m(\u001b[49m\u001b[38;5;124;43m\"\u001b[39;49m\u001b[38;5;124;43mmemory_map\u001b[39;49m\u001b[38;5;124;43m\"\u001b[39;49m\u001b[43m,\u001b[49m\u001b[43m \u001b[49m\u001b[38;5;28;43;01mFalse\u001b[39;49;00m\u001b[43m)\u001b[49m\u001b[43m,\u001b[49m\n\u001b[1;32m   1886\u001b[0m \u001b[43m    \u001b[49m\u001b[43mis_text\u001b[49m\u001b[38;5;241;43m=\u001b[39;49m\u001b[43mis_text\u001b[49m\u001b[43m,\u001b[49m\n\u001b[1;32m   1887\u001b[0m \u001b[43m    \u001b[49m\u001b[43merrors\u001b[49m\u001b[38;5;241;43m=\u001b[39;49m\u001b[38;5;28;43mself\u001b[39;49m\u001b[38;5;241;43m.\u001b[39;49m\u001b[43moptions\u001b[49m\u001b[38;5;241;43m.\u001b[39;49m\u001b[43mget\u001b[49m\u001b[43m(\u001b[49m\u001b[38;5;124;43m\"\u001b[39;49m\u001b[38;5;124;43mencoding_errors\u001b[39;49m\u001b[38;5;124;43m\"\u001b[39;49m\u001b[43m,\u001b[49m\u001b[43m \u001b[49m\u001b[38;5;124;43m\"\u001b[39;49m\u001b[38;5;124;43mstrict\u001b[39;49m\u001b[38;5;124;43m\"\u001b[39;49m\u001b[43m)\u001b[49m\u001b[43m,\u001b[49m\n\u001b[1;32m   1888\u001b[0m \u001b[43m    \u001b[49m\u001b[43mstorage_options\u001b[49m\u001b[38;5;241;43m=\u001b[39;49m\u001b[38;5;28;43mself\u001b[39;49m\u001b[38;5;241;43m.\u001b[39;49m\u001b[43moptions\u001b[49m\u001b[38;5;241;43m.\u001b[39;49m\u001b[43mget\u001b[49m\u001b[43m(\u001b[49m\u001b[38;5;124;43m\"\u001b[39;49m\u001b[38;5;124;43mstorage_options\u001b[39;49m\u001b[38;5;124;43m\"\u001b[39;49m\u001b[43m,\u001b[49m\u001b[43m \u001b[49m\u001b[38;5;28;43;01mNone\u001b[39;49;00m\u001b[43m)\u001b[49m\u001b[43m,\u001b[49m\n\u001b[1;32m   1889\u001b[0m \u001b[43m\u001b[49m\u001b[43m)\u001b[49m\n\u001b[1;32m   1890\u001b[0m \u001b[38;5;28;01massert\u001b[39;00m \u001b[38;5;28mself\u001b[39m\u001b[38;5;241m.\u001b[39mhandles \u001b[38;5;129;01mis\u001b[39;00m \u001b[38;5;129;01mnot\u001b[39;00m \u001b[38;5;28;01mNone\u001b[39;00m\n\u001b[1;32m   1891\u001b[0m f \u001b[38;5;241m=\u001b[39m \u001b[38;5;28mself\u001b[39m\u001b[38;5;241m.\u001b[39mhandles\u001b[38;5;241m.\u001b[39mhandle\n",
      "File \u001b[0;32m/opt/anaconda3/envs/neuralcb/lib/python3.9/site-packages/pandas/io/common.py:873\u001b[0m, in \u001b[0;36mget_handle\u001b[0;34m(path_or_buf, mode, encoding, compression, memory_map, is_text, errors, storage_options)\u001b[0m\n\u001b[1;32m    868\u001b[0m \u001b[38;5;28;01melif\u001b[39;00m \u001b[38;5;28misinstance\u001b[39m(handle, \u001b[38;5;28mstr\u001b[39m):\n\u001b[1;32m    869\u001b[0m     \u001b[38;5;66;03m# Check whether the filename is to be opened in binary mode.\u001b[39;00m\n\u001b[1;32m    870\u001b[0m     \u001b[38;5;66;03m# Binary mode does not support 'encoding' and 'newline'.\u001b[39;00m\n\u001b[1;32m    871\u001b[0m     \u001b[38;5;28;01mif\u001b[39;00m ioargs\u001b[38;5;241m.\u001b[39mencoding \u001b[38;5;129;01mand\u001b[39;00m \u001b[38;5;124m\"\u001b[39m\u001b[38;5;124mb\u001b[39m\u001b[38;5;124m\"\u001b[39m \u001b[38;5;129;01mnot\u001b[39;00m \u001b[38;5;129;01min\u001b[39;00m ioargs\u001b[38;5;241m.\u001b[39mmode:\n\u001b[1;32m    872\u001b[0m         \u001b[38;5;66;03m# Encoding\u001b[39;00m\n\u001b[0;32m--> 873\u001b[0m         handle \u001b[38;5;241m=\u001b[39m \u001b[38;5;28;43mopen\u001b[39;49m\u001b[43m(\u001b[49m\n\u001b[1;32m    874\u001b[0m \u001b[43m            \u001b[49m\u001b[43mhandle\u001b[49m\u001b[43m,\u001b[49m\n\u001b[1;32m    875\u001b[0m \u001b[43m            \u001b[49m\u001b[43mioargs\u001b[49m\u001b[38;5;241;43m.\u001b[39;49m\u001b[43mmode\u001b[49m\u001b[43m,\u001b[49m\n\u001b[1;32m    876\u001b[0m \u001b[43m            \u001b[49m\u001b[43mencoding\u001b[49m\u001b[38;5;241;43m=\u001b[39;49m\u001b[43mioargs\u001b[49m\u001b[38;5;241;43m.\u001b[39;49m\u001b[43mencoding\u001b[49m\u001b[43m,\u001b[49m\n\u001b[1;32m    877\u001b[0m \u001b[43m            \u001b[49m\u001b[43merrors\u001b[49m\u001b[38;5;241;43m=\u001b[39;49m\u001b[43merrors\u001b[49m\u001b[43m,\u001b[49m\n\u001b[1;32m    878\u001b[0m \u001b[43m            \u001b[49m\u001b[43mnewline\u001b[49m\u001b[38;5;241;43m=\u001b[39;49m\u001b[38;5;124;43m\"\u001b[39;49m\u001b[38;5;124;43m\"\u001b[39;49m\u001b[43m,\u001b[49m\n\u001b[1;32m    879\u001b[0m \u001b[43m        \u001b[49m\u001b[43m)\u001b[49m\n\u001b[1;32m    880\u001b[0m     \u001b[38;5;28;01melse\u001b[39;00m:\n\u001b[1;32m    881\u001b[0m         \u001b[38;5;66;03m# Binary mode\u001b[39;00m\n\u001b[1;32m    882\u001b[0m         handle \u001b[38;5;241m=\u001b[39m \u001b[38;5;28mopen\u001b[39m(handle, ioargs\u001b[38;5;241m.\u001b[39mmode)\n",
      "\u001b[0;31mFileNotFoundError\u001b[0m: [Errno 2] No such file or directory: '/Users/anniezhou/GaTech Dropbox/Anni Zhou/neuralcb_results_prob_Mac/sim0/trainSepticWins_1000_testSepticWins_250[killed for unknown reasons]/sepsis_d=13_a=2_pi=eps-greedy0.1_std=0.01_testfreq=10/NeuralGreedyV2_cp-gridsearch_epochs=100_m=100_layern=True_buffer=-1_bs=32_lr=0.001_beta=0.1_lambda=0.0001_lambda0=0.1_B=10.csv'"
     ]
    },
    {
     "data": {
      "text/plain": [
       "<Figure size 1500x1000 with 0 Axes>"
      ]
     },
     "metadata": {},
     "output_type": "display_data"
    }
   ],
   "source": [
    "# def plot_sepsis_bmode():\n",
    "# sepsis_path = './results/trainwins_50_testwins_5/sepsis_d=13_a=2_pi=eps-greedy0.1_std=0.01'\n",
    "# sepsis_path_cp = './results/trainwins_500_testwins_250/sepsis_d=13_a=2_pi=eps-greedy0.1_std=0.01'\n",
    "\n",
    "# approx_neural_path_cp = 'approx-neural-gridsearch_epochs=100_m=100_layern=True_buffer=-1_bs=32_lr=0.001_beta=0.1_lambda=0.0001_lambda0=0.1.npz'\n",
    "# data_cp= np.load(os.path.join(sepsis_path_cp,approx_neural_path_cp)) \n",
    "\n",
    "# cp_experts = ['ApproxNeuraLCB_cp', 'ExactNeuraLCBV2_cp', 'NeuralGreedyV2_cp', 'ApproxNeuralLinLCBV2_cp', 'ExactNeuralLinLCBV2_cp']\n",
    "# experts = ['NeuralGreedyV2_cp', 'ApproxNeuralLinLCBV2_cp', 'ApproxNeuralLinLCBJointModel_cp']\n",
    "# nocp_experts = ['NeuralGreedyV2', 'ApproxNeuralLinLCBV2', 'ApproxNeuralLinLCBJointModel','ApproxNeuraLCBV2']\n",
    "# experts = ['NeuralGreedyV2_cp', 'NeuralGreedyV2']\n",
    "# experts = ['ApproxNeuraLCB_cp', 'ApproxNeuraLCBV2']\n",
    "# experts = ['ApproxNeuraLCB_cp', 'ExactNeuraLCBV2_cp']\n",
    "B= 10\n",
    "# experts = ['ApproxNeuralLinLCBV2','ApproxNeuralLinLCBV2_cp' ]\n",
    "# experts = ['ApproxNeuralLinLCBJointModel','ApproxNeuralLinLCBJointModel_cp']\n",
    "# experts = ['NeuralGreedyV2',  'ApproxNeuralLinLCBJointModel','ApproxNeuraLCBV2', 'ExactNeuraLCBV2']\n",
    "# experts = [  'ApproxNeuralLinLCBJointModel' ]\n",
    "\n",
    "# experts = ['ApproxNeuraLCB_cp','ApproxNeuralLinLCBV2_cp' ]\n",
    "experts = ['ApproxNeuraLCBV2','ApproxNeuralLinLCBV2' ]\n",
    "experts = ['ApproxNeuraLCB_cp','ApproxNeuralLinLCBJointModel_cp' ]\n",
    "\n",
    "experts = ['ApproxNeuralLinLCBJointModel_cp']\n",
    "experts = ['ApproxNeuraLCB_cp','ApproxNeuralLinLCBJointModel_cp' ]\n",
    "experts = ['ApproxNeuraLCBV2','NeuralGreedyV2' ]\n",
    "# experts = ['ApproxNeuraLCB_cp','NeuralGreedyV2_cp' ]\n",
    "experts = ['NeuralGreedyV2_cp','NeuralGreedyV2']\n",
    "experts = ['NeuralGreedyV2_cp' ]\n",
    "width = 15\n",
    "height = 10\n",
    "num_split = 1\n",
    "len2plot = 1600\n",
    "plt.figure(figsize = (width,height))\n",
    "lr_space = [1e-3]\n",
    "train_mode_space = [(32,100,-1)]\n",
    "beta_space = [0.01, 1, 5]\n",
    "rbfsigma_space = [1]  \n",
    "noise_std_space = [0.1] #\n",
    "for lr in lr_space:\n",
    "    for batch_size,num_steps,buffer_s in train_mode_space:\n",
    "        for noise_std in noise_std_space:\n",
    "            res_dir = os.path.join(f'/Users/anniezhou/GaTech Dropbox/Anni Zhou/neuralcb_results_Mac/sim{sim}/trainSepticWins_{num_train_sepsis_pat_win}_testSepticWins_{num_test_pat_septic_win}[killed for unknown reasons]/', data_prefix) \n",
    "\n",
    "            \n",
    "            for algo_group in experts:\n",
    "                if 'cp'in algo_group.split('_'):\n",
    "                    algo_prefix = f'{algo_group}-gridsearch_epochs={num_steps}_m={min(layer_sizes)}_layern={layer_n}_buffer={buffer_s}_bs={batch_size}_lr={lr}_beta={beta}_lambda={lambd}_lambda0={lambd0}_B={B}.csv' \n",
    "                else:\n",
    "                    algo_prefix = f'{algo_group}-gridsearch_epochs={num_steps}_m={min(layer_sizes)}_layern={layer_n}_buffer={buffer_s}_bs={batch_size}_lr={lr}_beta={beta}_lambda={lambd}_lambda0={lambd0}.csv' \n",
    "            \n",
    "                sepsis_path_cp = os.path.join(res_dir, algo_prefix)   \n",
    "                data_cp = pd.read_csv(sepsis_path_cp)\n",
    "                # len2plot = int(len(data_cp)/num_split)\n",
    "                regrets_cp = data_cp['regrets'][0:len2plot]\n",
    "                # errs_cp = data_cp['act_errs'][0:len2plot]\n",
    "                train_size = data_cp['train_size'][0:len2plot]\n",
    "                print(\"Regrets_cp shape:\", regrets_cp.shape)\n",
    "                # print(\"Errors_cp shape:\", errs_cp.shape)\n",
    "                plt.plot(train_size, regrets_cp, label=f'{algo_group}')\n",
    "            plt.title('Regrets')\n",
    "            plt.xlabel('Train Size')\n",
    "            plt.ylabel('Regrets')\n",
    "            plt.legend()\n",
    "            plt.grid(True)\n",
    "            plt.show()\n",
    "\n",
    "            # Plot all errors in one figure\n",
    "            plt.figure(figsize=(width, height))\n",
    "            for algo_group in experts:\n",
    "                if 'cp'in algo_group.split('_'):\n",
    "                    algo_prefix = f'{algo_group}-gridsearch_epochs={num_steps}_m={min(layer_sizes)}_layern={layer_n}_buffer={buffer_s}_bs={batch_size}_lr={lr}_beta={beta}_lambda={lambd}_lambda0={lambd0}_B={B}.csv' \n",
    "                else:\n",
    "                    algo_prefix = f'{algo_group}-gridsearch_epochs={num_steps}_m={min(layer_sizes)}_layern={layer_n}_buffer={buffer_s}_bs={batch_size}_lr={lr}_beta={beta}_lambda={lambd}_lambda0={lambd0}.csv' \n",
    "            \n",
    "                \n",
    "                sepsis_path_cp = os.path.join(res_dir, algo_prefix)   \n",
    "\n",
    "                data_cp = pd.read_csv(sepsis_path_cp)\n",
    "                # len2plot = int(len(data_cp)/4)\n",
    "                errs_cp = data_cp['act_errs'][0:len2plot]\n",
    "                train_size = data_cp['train_size'][0:len2plot]\n",
    "\n",
    "                plt.plot(train_size, errs_cp, label=f'{algo_group}')\n",
    "                \n",
    "            plt.title('Errors')\n",
    "            plt.xlabel('Train Size')\n",
    "            plt.ylabel('Errors')\n",
    "            plt.legend()\n",
    "            plt.grid(True)\n",
    "            plt.show()"
   ]
  },
  {
   "cell_type": "code",
   "execution_count": null,
   "metadata": {},
   "outputs": [],
   "source": []
  },
  {
   "cell_type": "code",
   "execution_count": 7,
   "metadata": {},
   "outputs": [],
   "source": [
    "# def plot_realworld_experiment(name, trainconfig, beta, rbf_sigma, lr=0.001, figshow=False, legendloc=None, save=True, tick_spacing=200, test_freq=10, policy='eps-greedy'):\n",
    "#     res_dir = os.path.join('results', name)\n",
    "#     approx_neural = 'approx-neural-gridsearch_epochs={}_m=100_layern=True_buffer={}_bs={}_lr={}_beta={}_lambda=0.0001_lambda0=0.1.npz'.format(trainconfig[0],trainconfig[1],trainconfig[2],lr,beta)\n",
    "#     neural_greedy = 'neural-greedy-gridsearch_epochs={}_m=100_layern=True_buffer={}_bs={}_lr={}_lambda=0.0001.npz'.format(trainconfig[0],trainconfig[1],trainconfig[2],lr)\n",
    "#     baseline = 'baseline_epochs=100_m=100_layern=True_beta=0.1_lambda0=0.1_rbf-sigma=1.0_maxnum=1000.npz'\n",
    "#     kern = 'kern-gridsearch_beta=0.1_rbf-sigma={}_maxnum=1000.npz'.format(rbf_sigma)\n",
    "\n",
    "#     neuralcb = np.load(os.path.join(res_dir,approx_neural))['arr_0']\n",
    "#     neuralgreedy = np.load(os.path.join(res_dir,neural_greedy))['arr_0']\n",
    "#     bl = np.load(os.path.join(res_dir,baseline))['arr_0']\n",
    "#     kernlcb = np.load(os.path.join(res_dir,kern))['arr_0']\n",
    "\n",
    "#     # Read data \n",
    "#     arrs = (neuralcb, neuralgreedy, bl, kernlcb) \n",
    "#     algos = ['NeuraLCB', 'NeuralGreedy', 'LinLCB', 'NeuralLinLCB', 'NeuralLinGreedy', 'KernLCB']\n",
    "#     algos = ['NeuraLCB', 'NeuralGreedy', 'LinLCB', 'NeuralLinLCB', 'NeuralLinGreedy', 'KernLCB']\n",
    "#     regrets = [] \n",
    "#     i = 0\n",
    "#     for a in arrs:\n",
    "#         for i in range(1,a.shape[1]):\n",
    "#             regrets.append(a[:,i,:])\n",
    "\n",
    "#     # Plot\n",
    "#     filename = '{}_{}_cf={}{}{}_beta={}_lr={}_rbfsigma={}.pdf'.format(policy,name.split('_')[0],trainconfig[0],trainconfig[1],trainconfig[2],beta,lr,rbf_sigma)\n",
    "#     print(filename)\n",
    "#     plot(algos, regrets, cumsum=False, filename=filename if save else None, figshow=figshow, legendloc=legendloc, tick_spacing=tick_spacing, test_freq=test_freq)"
   ]
  },
  {
   "cell_type": "markdown",
   "metadata": {},
   "source": [
    "## Plot everything"
   ]
  },
  {
   "cell_type": "code",
   "execution_count": 8,
   "metadata": {},
   "outputs": [],
   "source": [
    "# policy = 'online'\n",
    "# data_types = [\n",
    "#              #'mushroom_d=117_a=2_pi={}0.1_std=0'.format(policy),\n",
    "#               'statlog_d=10_a=7_pi={}0.1_std=0'.format(policy),\n",
    "#               #'stock_d=21_a=8_pi=eps-greedy0.1_std=0.1',\n",
    "#               #'jester_d=32_a=8_pi=eps-greedy0.1_std=0.1', \n",
    "#               #'covertype_d=54_a=7_pi=eps-greedy0.1_std=0', \n",
    "#               #'census_d=387_a=9_pi=eps-greedy0.1_std=0.0',\n",
    "#               'adult_d=92_a=14_pi={}0.1_std=0.0'.format(policy),\n",
    "#             'mnist_d=784_a=10_pi={}0.1_std=0'.format(policy)    \n",
    "#             ]\n",
    "\n",
    "# betas = [0.01,0.05,1.0,5.0, 10.0]\n",
    "# trconfigs =  [(1,1,1),(100,-1,50)]\n",
    "# rbf_sigmas = [0.1,1.0,10.0]\n",
    "# lrs = [0.001,0.0001]\n",
    "# for data_type in data_types:\n",
    "#     if data_type.split('_')[0] == 'mnist':\n",
    "#         test_freq = 100 \n",
    "#         tick_spacing = 20 \n",
    "#     else:\n",
    "#         test_freq = 10 \n",
    "#         tick_spacing = 200\n",
    "#     for trconfig in trconfigs:\n",
    "#         for beta in betas:\n",
    "#             for lr in lrs:\n",
    "#                 for rbf_sigma in rbf_sigmas:\n",
    "#                     try:\n",
    "#                         plot_realworld_experiment(data_type, trconfig, beta, rbf_sigma, lr, tick_spacing=tick_spacing,test_freq=test_freq, policy=policy)\n",
    "#                     except: \n",
    "#                         fname =  'online_{}_cf={}{}{}_beta={}_lr={}_rbfsigma={}.pdf'.format(data_type.split('_')[0],trconfig[0],trconfig[1],trconfig[2],beta,lr,rbf_sigma)\n",
    "#                         print('Not found {}'.format(fname))"
   ]
  },
  {
   "cell_type": "markdown",
   "metadata": {},
   "source": [
    "## Plot S-mode vs B-mode "
   ]
  },
  {
   "cell_type": "code",
   "execution_count": 9,
   "metadata": {},
   "outputs": [],
   "source": [
    "# def plot_smode_vs_bmode(name, beta, lr=0.001, figshow=False, legendloc=None, save=True, tick_spacing=200, test_freq=10, policy='eps-greedy'):\n",
    "#     res_dir = os.path.join('results', name)\n",
    "#     smode = (1,1,1)\n",
    "#     bmode = (100,-1,50)\n",
    "#     approx_neural_smode = 'approx-neural-gridsearch_epochs={}_m=100_layern=True_buffer={}_bs={}_lr={}_beta={}_lambda=0.0001_lambda0=0.1.npz'.format(smode[0],smode[1],smode[2],lr,beta)    \n",
    "#     approx_neural_bmode = 'approx-neural-gridsearch_epochs={}_m=100_layern=True_buffer={}_bs={}_lr={}_beta={}_lambda=0.0001_lambda0=0.1.npz'.format(bmode[0],bmode[1],bmode[2],lr,beta)\n",
    "    \n",
    "#     neural_greedy_smode = 'neural-greedy-gridsearch_epochs={}_m=100_layern=True_buffer={}_bs={}_lr={}_lambda=0.0001.npz'.format(smode[0],smode[1],smode[2],lr)\n",
    "#     neural_greedy_bmode = 'neural-greedy-gridsearch_epochs={}_m=100_layern=True_buffer={}_bs={}_lr={}_lambda=0.0001.npz'.format(bmode[0],bmode[1],bmode[2],lr)\n",
    "\n",
    "\n",
    "#     neuralcb_s = np.load(os.path.join(res_dir,approx_neural_smode))['arr_0']\n",
    "#     neuralcb_b = np.load(os.path.join(res_dir,approx_neural_bmode))['arr_0']\n",
    "    \n",
    "    \n",
    "#     neuralgreedy_s = np.load(os.path.join(res_dir,neural_greedy_smode))['arr_0']\n",
    "#     neuralgreedy_b = np.load(os.path.join(res_dir,neural_greedy_bmode))['arr_0']\n",
    "\n",
    "\n",
    "#     # Read data \n",
    "#     arrs = (neuralcb_s, neuralcb_b, neuralgreedy_s, neuralgreedy_b)\n",
    "#     algos = ['NeuraLCB(S-mode)', 'NeuraLCB(B-mode)', 'NeuralGreedy(S-mode)', 'NeuralGreedy(B-mode)']\n",
    "#     regrets = [] \n",
    "#     i = 0\n",
    "#     for a in arrs:\n",
    "#         for i in range(1,a.shape[1]):\n",
    "#             regrets.append(a[:,i,:])\n",
    "\n",
    "#     # Plot\n",
    "#     filename = 'mode_{}_beta={}_lr={}_policy={}.pdf'.format(name.split('_')[0],beta,lr, policy)\n",
    "#     print(filename)\n",
    "#     plot(algos, regrets, cumsum=False, filename=filename if save else None, figshow=figshow, legendloc=legendloc, tick_spacing=tick_spacing, test_freq=test_freq)"
   ]
  },
  {
   "cell_type": "code",
   "execution_count": 10,
   "metadata": {},
   "outputs": [],
   "source": [
    "# data_types = [\n",
    "#             #  'mushroom_d=117_a=2_pi=eps-greedy0.1_std=0',\n",
    "#             #   'statlog_d=10_a=7_pi=eps-greedy0.1_std=0',\n",
    "              \n",
    "#               'sepsis_d=13_a=2_pi=eps-greedy0.1_std=0.01'\n",
    "              \n",
    "\n",
    "#               #'stock_d=21_a=8_pi=eps-greedy0.1_std=0.1',\n",
    "#               #'jester_d=32_a=8_pi=eps-greedy0.1_std=0.1', \n",
    "#               #'covertype_d=54_a=7_pi=eps-greedy0.1_std=0', \n",
    "#               #'census_d=387_a=9_pi=eps-greedy0.1_std=0.0',\n",
    "# #               'adult_d=92_a=14_pi=eps-greedy0.1_std=0.0',\n",
    "# #             'mnist_d=784_a=10_pi=eps-greedy0.1_std=0'    \n",
    "#             ]\n",
    "# policy='eps-greedy'\n",
    "# test_freq = 10 # for mnist\n",
    "# tick_spacing = 200  # mnist, 200 for other data\n",
    "# betas = [0.01,0.05,1.0,5.0, 10.0]\n",
    "# # lrs = [0.001,0.0001]\n",
    "# lrs = [0.0001]\n",
    "# for data_type in data_types:\n",
    "#     if data_type.split('_') == 'mnist':\n",
    "#         test_freq = 100 \n",
    "#         tick_spacing=20\n",
    "#     for beta in betas:\n",
    "#         for lr in lrs:\n",
    "#             #try:\n",
    "#             plot_smode_vs_bmode(data_type, beta, lr, tick_spacing=tick_spacing,test_freq=test_freq,policy=policy)\n",
    "#             #except: \n",
    "#             #    fname =  '{}_beta={}_lr={}.pdf'.format(data_type.split('_')[0],beta,lr)\n",
    "#             #    print('Not found {}'.format(fname))"
   ]
  },
  {
   "cell_type": "code",
   "execution_count": null,
   "metadata": {},
   "outputs": [],
   "source": []
  }
 ],
 "metadata": {
  "kernelspec": {
   "display_name": "neuralcb",
   "language": "python",
   "name": "python3"
  },
  "language_info": {
   "codemirror_mode": {
    "name": "ipython",
    "version": 3
   },
   "file_extension": ".py",
   "mimetype": "text/x-python",
   "name": "python",
   "nbconvert_exporter": "python",
   "pygments_lexer": "ipython3",
   "version": "3.9.20"
  }
 },
 "nbformat": 4,
 "nbformat_minor": 2
}
