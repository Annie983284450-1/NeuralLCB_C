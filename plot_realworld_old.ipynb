{
 "cells": [
  {
   "cell_type": "code",
   "execution_count": 1,
   "metadata": {},
   "outputs": [
    {
     "name": "stderr",
     "output_type": "stream",
     "text": [
      "/var/folders/gg/gm8xvt3d6nq5bgsl60gj3q_80000gn/T/ipykernel_35618/1682386490.py:1: DeprecationWarning: Importing display from IPython.core.display is deprecated since IPython 7.14, please import from IPython display\n",
      "  from IPython.core.display import display, HTML\n"
     ]
    },
    {
     "data": {
      "text/html": [
       "<style>.container { width:100% !important; }</style>"
      ],
      "text/plain": [
       "<IPython.core.display.HTML object>"
      ]
     },
     "metadata": {},
     "output_type": "display_data"
    },
    {
     "data": {
      "text/html": [
       "<style>.output_result { max-width:100% !important; }</style>"
      ],
      "text/plain": [
       "<IPython.core.display.HTML object>"
      ]
     },
     "metadata": {},
     "output_type": "display_data"
    },
    {
     "data": {
      "text/html": [
       "<style>.prompt { display:none !important; }</style>"
      ],
      "text/plain": [
       "<IPython.core.display.HTML object>"
      ]
     },
     "metadata": {},
     "output_type": "display_data"
    }
   ],
   "source": [
    "from IPython.core.display import display, HTML\n",
    "display(HTML(\"<style>.container { width:100% !important; }</style>\"))\n",
    "display(HTML(\"<style>.output_result { max-width:100% !important; }</style>\"))\n",
    "display(HTML(\"<style>.prompt { display:none !important; }</style>\"))\n",
    "import numpy as np \n",
    "import matplotlib.pyplot as plt \n",
    "%matplotlib inline\n",
    "import os, math\n",
    " "
   ]
  },
  {
   "cell_type": "code",
   "execution_count": 2,
   "metadata": {},
   "outputs": [],
   "source": [
    "# def plot(algos, regrets, cumsum=False, filename=None, figshow=True, legendloc='bottom left', tick_spacing=200, test_freq=10):\n",
    "#     assert len(algos) == len(regrets)\n",
    "#     num_algos = len(algos)\n",
    "    \n",
    "#     # Get color range\n",
    "#     cmap = plt.cm.get_cmap('jet')\n",
    "#     colors = cmap(np.arange(cmap.N))\n",
    "#     cinv = cmap.N / (1. * num_algos) \n",
    "    \n",
    "    \n",
    "#     if cumsum:\n",
    "#         regrets_ = []\n",
    "#         for r in regrets:\n",
    "#             regrets_.append(r.cumsum(axis=1))\n",
    "#         regrets = regrets_\n",
    "    \n",
    "#     # Compute mu and std \n",
    "#     mus = []\n",
    "#     stds = []\n",
    "#     for r in regrets:\n",
    "#         mu = np.mean(r,axis=0)\n",
    "#         std = np.std(r,axis=0) / math.sqrt(r.shape[0])\n",
    "#         mus.append(mu)\n",
    "#         stds.append(std) \n",
    "        \n",
    "#     # Plot \n",
    "#     T = regrets[0].shape[1]\n",
    "#     fig = plt.figure(figsize=(5,4))\n",
    "#     dom = np.arange(T)\n",
    "\n",
    "#     for i in range(num_algos):\n",
    "#         color = colors[int( (i + 0.5) * cinv)] \n",
    "#         plt.plot(dom, mus[i], label=algos[i], color=color) \n",
    "#         plt.fill_between(dom, mus[i] + 1.96 * stds[i],\\\n",
    "#                          mus[i] - 1.96 * stds[i], alpha=0.2, color=color)\n",
    "\n",
    "#     plt.xlim([0,T])\n",
    "#     plt.rc('grid', linestyle='--', color='black', alpha=0.2)\n",
    "#     plt.grid('on')\n",
    "    \n",
    "#     if legendloc:\n",
    "#         plt.legend(loc = legendloc, prop={'size': 11}) \n",
    "#     else:\n",
    "#         plt.legend(prop={'size':11})\n",
    "\n",
    "\n",
    "#     dom = np.arange(0, T, tick_spacing)\n",
    "#     # print('T = {}'.format(T))\n",
    "#     plt.xticks(dom, dom*test_freq)\n",
    "#     plt.xlabel('Number of samples',fontsize=12)\n",
    "#     plt.ylabel('Sub-optimality',fontsize=12)\n",
    "\n",
    "#     if filename:\n",
    "#         if not os.path.exists('fig'):\n",
    "#             os.makedirs('fig')\n",
    "#         fig.savefig(os.path.join('fig', filename), dpi=500, bbox_inches='tight')\n",
    "    \n",
    "#     if not figshow:\n",
    "#         plt.close(fig)\n",
    "#         plt.clf()"
   ]
  },
  {
   "cell_type": "code",
   "execution_count": 3,
   "metadata": {},
   "outputs": [],
   "source": [
    "# num_train_sepsis_pat_win = 20\n",
    "# num_test_pat_septic_win = 5\n",
    "num_train_sepsis_pat_win = 1000\n",
    "num_test_pat_septic_win = 250\n",
    "num_steps = 100\n",
    "layer_sizes = [100,100]\n",
    "layer_n = True\n",
    "buffer_s = -1\n",
    "batch_size = 32\n",
    "lr = 1e-3\n",
    "beta = 0.1\n",
    "lambd0 = 0.1\n",
    "lambd = 1e-4\n",
    "# algo_group = 'approx-neural_cp'\n",
    "\n",
    "num_actions=2\n",
    "context_dim = 13\n",
    "data_type = 'sepsis'\n",
    "eps= 0.1\n",
    "policy_prefix = f'eps-greedy{eps}'\n",
    "noise_std = 0.01\n",
    "test_freq=10\n",
    "data_prefix = '{}_d={}_a={}_pi={}_std={}_testfreq={}'.format(data_type, context_dim, num_actions, policy_prefix, noise_std, test_freq)\n",
    "# res_dir = os.path.join(f'../neuralcb_results/trainwins_{num_train_sepsis_pat_win}_testwins_{num_test_pat_septic_win}', data_prefix) \n",
    "\n",
    "\n",
    "\n",
    "\n",
    "\n",
    "# res_dir = os.path.join('results', data_prefix) \n",
    "sim = 0\n",
    "\n",
    "res_dir = os.path.join(f'../neuralcb_results/sim{sim}/trainwins_{num_train_sepsis_pat_win}_testwins_{num_test_pat_septic_win}/', data_prefix) \n",
    "# B=10\n",
    "# B=25"
   ]
  },
  {
   "cell_type": "code",
   "execution_count": 4,
   "metadata": {},
   "outputs": [],
   "source": [
    "# import pandas as pd\n",
    "# ApproxNeuraLCB_cp =  'ApproxNeuraLCB_cp'\n",
    "# algo_prefix = f'{ApproxNeuraLCB_cp}-gridsearch_epochs={num_steps}_m={min(layer_sizes)}_layern={layer_n}_buffer={buffer_s}_bs={batch_size}_lr={lr}_beta={beta}_lambda={lambd}_lambda0={lambd0}.npz' \n",
    "# sepsis_path_cp = os.path.join(res_dir, algo_prefix)   \n",
    "# ApproxNeuraLCB_cp_data = np.load(sepsis_path_cp)\n",
    "# for key in ApproxNeuraLCB_cp_data.keys():\n",
    "#     print(f\"Key: {key}, Shape: {ApproxNeuraLCB_cp_data[key].shape}, Data Type: {ApproxNeuraLCB_cp_data[key].dtype}\")\n",
    "# # Flatten the arrays and create a DataFrame\n",
    "# ApproxNeuraLCB_cp_df = pd.DataFrame({\n",
    "#     'regrets': ApproxNeuraLCB_cp_data['regrets'].flatten(),\n",
    "#     'act_errs': ApproxNeuraLCB_cp_data['errs'].flatten(),  # Renaming 'errs' to 'act_errs'\n",
    "# })\n",
    "\n",
    "# # ApproxNeuraLCB_cp_df = pd.DataFrame({key: ApproxNeuraLCB_cp_data[key] for key in ApproxNeuraLCB_cp_data.keys()})\n",
    "# if 'errs' in ApproxNeuraLCB_cp_df.columns:\n",
    "#     ApproxNeuraLCB_cp_df.rename(columns={'errs': 'act_errs'}, inplace=True)\n",
    "\n",
    "# ApproxNeuraLCB_cp_df['train_size'] =  np.arange(1, 16000, 10)\n",
    "# algo_prefix_csv = f'{ApproxNeuraLCB_cp}-gridsearch_epochs={num_steps}_m={min(layer_sizes)}_layern={layer_n}_buffer={buffer_s}_bs={batch_size}_lr={lr}_beta={beta}_lambda={lambd}_lambda0={lambd0}.csv' \n",
    "# ApproxNeuraLCB_cp_df.to_csv(os.path.join(res_dir, algo_prefix_csv), index=False) "
   ]
  },
  {
   "cell_type": "code",
   "execution_count": 5,
   "metadata": {},
   "outputs": [
    {
     "name": "stdout",
     "output_type": "stream",
     "text": [
      "['ApproxNeuralLinLCBJointModel']\n",
      "['ApproxNeuralLinLCBJointModel', 'cp']\n"
     ]
    }
   ],
   "source": [
    "experts = ['ApproxNeuralLinLCBJointModel','ApproxNeuralLinLCBJointModel_cp']\n",
    "for algo_group in experts:\n",
    "    print(algo_group.split('_'))"
   ]
  },
  {
   "cell_type": "code",
   "execution_count": 25,
   "metadata": {},
   "outputs": [
    {
     "name": "stdout",
     "output_type": "stream",
     "text": [
      "Regrets_cp shape: (1600,)\n"
     ]
    },
    {
     "data": {
      "image/png": "[encoded data removed]",
      "text/plain": [
       "<Figure size 1500x1000 with 1 Axes>"
      ]
     },
     "metadata": {},
     "output_type": "display_data"
    },
    {
     "data": {
      "image/png": "[encoded data removed]",
      "text/plain": [
       "<Figure size 1500x1000 with 1 Axes>"
      ]
     },
     "metadata": {},
     "output_type": "display_data"
    }
   ],
   "source": [
    "# def plot_sepsis_bmode():\n",
    "# sepsis_path = './results/trainwins_50_testwins_5/sepsis_d=13_a=2_pi=eps-greedy0.1_std=0.01'\n",
    "# sepsis_path_cp = './results/trainwins_500_testwins_250/sepsis_d=13_a=2_pi=eps-greedy0.1_std=0.01'\n",
    "\n",
    "# approx_neural_path_cp = 'approx-neural-gridsearch_epochs=100_m=100_layern=True_buffer=-1_bs=32_lr=0.001_beta=0.1_lambda=0.0001_lambda0=0.1.npz'\n",
    "# data_cp= np.load(os.path.join(sepsis_path_cp,approx_neural_path_cp)) \n",
    "import pandas as pd\n",
    "\n",
    "# cp_experts = ['ApproxNeuraLCB_cp', 'ExactNeuraLCBV2_cp', 'NeuralGreedyV2_cp', 'ApproxNeuralLinLCBV2_cp', 'ExactNeuralLinLCBV2_cp']\n",
    "# experts = ['NeuralGreedyV2_cp', 'ApproxNeuralLinLCBV2_cp', 'ApproxNeuralLinLCBJointModel_cp']\n",
    "# nocp_experts = ['NeuralGreedyV2', 'ApproxNeuralLinLCBV2', 'ApproxNeuralLinLCBJointModel','ApproxNeuraLCBV2']\n",
    "# experts = ['NeuralGreedyV2_cp', 'NeuralGreedyV2']\n",
    "# experts = ['ApproxNeuraLCB_cp', 'ApproxNeuraLCBV2']\n",
    "# experts = ['ApproxNeuraLCB_cp', 'ExactNeuraLCBV2_cp']\n",
    "B= 10\n",
    "# experts = ['ApproxNeuralLinLCBV2','ApproxNeuralLinLCBV2_cp' ]\n",
    "# experts = ['ApproxNeuralLinLCBJointModel','ApproxNeuralLinLCBJointModel_cp']\n",
    "# experts = ['NeuralGreedyV2',  'ApproxNeuralLinLCBJointModel','ApproxNeuraLCBV2', 'ExactNeuraLCBV2']\n",
    "# experts = [  'ApproxNeuralLinLCBJointModel' ]\n",
    "\n",
    "# experts = ['ApproxNeuraLCB_cp','ApproxNeuralLinLCBV2_cp' ]\n",
    "experts = ['ApproxNeuraLCBV2','ApproxNeuralLinLCBV2' ]\n",
    "experts = ['ApproxNeuraLCB_cp','ApproxNeuralLinLCBJointModel_cp' ]\n",
    "\n",
    "experts = ['ApproxNeuralLinLCBJointModel_cp']\n",
    "experts = ['ApproxNeuraLCB_cp','ApproxNeuralLinLCBJointModel_cp' ]\n",
    "experts = ['ApproxNeuraLCBV2','NeuralGreedyV2' ]\n",
    "# experts = ['ApproxNeuraLCB_cp','NeuralGreedyV2_cp' ]\n",
    "experts = ['NeuralGreedyV2_cp','NeuralGreedyV2']\n",
    "experts = ['NeuralGreedyV2_cp' ]\n",
    "width = 15\n",
    "height = 10\n",
    "num_split = 1\n",
    "len2plot = 1600\n",
    "plt.figure(figsize = (width,height))\n",
    "for algo_group in experts:\n",
    "    if 'cp'in algo_group.split('_'):\n",
    "        algo_prefix = f'{algo_group}-gridsearch_epochs={num_steps}_m={min(layer_sizes)}_layern={layer_n}_buffer={buffer_s}_bs={batch_size}_lr={lr}_beta={beta}_lambda={lambd}_lambda0={lambd0}_B={B}.csv' \n",
    "    else:\n",
    "        algo_prefix = f'{algo_group}-gridsearch_epochs={num_steps}_m={min(layer_sizes)}_layern={layer_n}_buffer={buffer_s}_bs={batch_size}_lr={lr}_beta={beta}_lambda={lambd}_lambda0={lambd0}.csv' \n",
    " \n",
    "    sepsis_path_cp = os.path.join(res_dir, algo_prefix)   \n",
    "    data_cp = pd.read_csv(sepsis_path_cp)\n",
    "    # len2plot = int(len(data_cp)/num_split)\n",
    "    regrets_cp = data_cp['regrets'][0:len2plot]\n",
    "    # errs_cp = data_cp['act_errs'][0:len2plot]\n",
    "    train_size = data_cp['train_size'][0:len2plot]\n",
    "    print(\"Regrets_cp shape:\", regrets_cp.shape)\n",
    "    # print(\"Errors_cp shape:\", errs_cp.shape)\n",
    "    plt.plot(train_size, regrets_cp, label=f'{algo_group}')\n",
    "plt.title('Regrets')\n",
    "plt.xlabel('Train Size')\n",
    "plt.ylabel('Regrets')\n",
    "plt.legend()\n",
    "plt.grid(True)\n",
    "plt.show()\n",
    "\n",
    "# Plot all errors in one figure\n",
    "plt.figure(figsize=(width, height))\n",
    "for algo_group in experts:\n",
    "    if 'cp'in algo_group.split('_'):\n",
    "        algo_prefix = f'{algo_group}-gridsearch_epochs={num_steps}_m={min(layer_sizes)}_layern={layer_n}_buffer={buffer_s}_bs={batch_size}_lr={lr}_beta={beta}_lambda={lambd}_lambda0={lambd0}_B={B}.csv' \n",
    "    else:\n",
    "        algo_prefix = f'{algo_group}-gridsearch_epochs={num_steps}_m={min(layer_sizes)}_layern={layer_n}_buffer={buffer_s}_bs={batch_size}_lr={lr}_beta={beta}_lambda={lambd}_lambda0={lambd0}.csv' \n",
    " \n",
    "    \n",
    "    sepsis_path_cp = os.path.join(res_dir, algo_prefix)   \n",
    "\n",
    "    data_cp = pd.read_csv(sepsis_path_cp)\n",
    "    # len2plot = int(len(data_cp)/4)\n",
    "    errs_cp = data_cp['act_errs'][0:len2plot]\n",
    "    train_size = data_cp['train_size'][0:len2plot]\n",
    "\n",
    "    plt.plot(train_size, errs_cp, label=f'{algo_group}')\n",
    "    \n",
    "plt.title('Errors')\n",
    "plt.xlabel('Train Size')\n",
    "plt.ylabel('Errors')\n",
    "plt.legend()\n",
    "plt.grid(True)\n",
    "plt.show()"
   ]
  },
  {
   "cell_type": "code",
   "execution_count": null,
   "metadata": {},
   "outputs": [],
   "source": []
  },
  {
   "cell_type": "code",
   "execution_count": 7,
   "metadata": {},
   "outputs": [],
   "source": [
    "# def plot_realworld_experiment(name, trainconfig, beta, rbf_sigma, lr=0.001, figshow=False, legendloc=None, save=True, tick_spacing=200, test_freq=10, policy='eps-greedy'):\n",
    "#     res_dir = os.path.join('results', name)\n",
    "#     approx_neural = 'approx-neural-gridsearch_epochs={}_m=100_layern=True_buffer={}_bs={}_lr={}_beta={}_lambda=0.0001_lambda0=0.1.npz'.format(trainconfig[0],trainconfig[1],trainconfig[2],lr,beta)\n",
    "#     neural_greedy = 'neural-greedy-gridsearch_epochs={}_m=100_layern=True_buffer={}_bs={}_lr={}_lambda=0.0001.npz'.format(trainconfig[0],trainconfig[1],trainconfig[2],lr)\n",
    "#     baseline = 'baseline_epochs=100_m=100_layern=True_beta=0.1_lambda0=0.1_rbf-sigma=1.0_maxnum=1000.npz'\n",
    "#     kern = 'kern-gridsearch_beta=0.1_rbf-sigma={}_maxnum=1000.npz'.format(rbf_sigma)\n",
    "\n",
    "#     neuralcb = np.load(os.path.join(res_dir,approx_neural))['arr_0']\n",
    "#     neuralgreedy = np.load(os.path.join(res_dir,neural_greedy))['arr_0']\n",
    "#     bl = np.load(os.path.join(res_dir,baseline))['arr_0']\n",
    "#     kernlcb = np.load(os.path.join(res_dir,kern))['arr_0']\n",
    "\n",
    "#     # Read data \n",
    "#     arrs = (neuralcb, neuralgreedy, bl, kernlcb) \n",
    "#     algos = ['NeuraLCB', 'NeuralGreedy', 'LinLCB', 'NeuralLinLCB', 'NeuralLinGreedy', 'KernLCB']\n",
    "#     algos = ['NeuraLCB', 'NeuralGreedy', 'LinLCB', 'NeuralLinLCB', 'NeuralLinGreedy', 'KernLCB']\n",
    "#     regrets = [] \n",
    "#     i = 0\n",
    "#     for a in arrs:\n",
    "#         for i in range(1,a.shape[1]):\n",
    "#             regrets.append(a[:,i,:])\n",
    "\n",
    "#     # Plot\n",
    "#     filename = '{}_{}_cf={}{}{}_beta={}_lr={}_rbfsigma={}.pdf'.format(policy,name.split('_')[0],trainconfig[0],trainconfig[1],trainconfig[2],beta,lr,rbf_sigma)\n",
    "#     print(filename)\n",
    "#     plot(algos, regrets, cumsum=False, filename=filename if save else None, figshow=figshow, legendloc=legendloc, tick_spacing=tick_spacing, test_freq=test_freq)"
   ]
  },
  {
   "cell_type": "markdown",
   "metadata": {},
   "source": [
    "## Plot everything"
   ]
  },
  {
   "cell_type": "code",
   "execution_count": 8,
   "metadata": {},
   "outputs": [],
   "source": [
    "# policy = 'online'\n",
    "# data_types = [\n",
    "#              #'mushroom_d=117_a=2_pi={}0.1_std=0'.format(policy),\n",
    "#               'statlog_d=10_a=7_pi={}0.1_std=0'.format(policy),\n",
    "#               #'stock_d=21_a=8_pi=eps-greedy0.1_std=0.1',\n",
    "#               #'jester_d=32_a=8_pi=eps-greedy0.1_std=0.1', \n",
    "#               #'covertype_d=54_a=7_pi=eps-greedy0.1_std=0', \n",
    "#               #'census_d=387_a=9_pi=eps-greedy0.1_std=0.0',\n",
    "#               'adult_d=92_a=14_pi={}0.1_std=0.0'.format(policy),\n",
    "#             'mnist_d=784_a=10_pi={}0.1_std=0'.format(policy)    \n",
    "#             ]\n",
    "\n",
    "# betas = [0.01,0.05,1.0,5.0, 10.0]\n",
    "# trconfigs =  [(1,1,1),(100,-1,50)]\n",
    "# rbf_sigmas = [0.1,1.0,10.0]\n",
    "# lrs = [0.001,0.0001]\n",
    "# for data_type in data_types:\n",
    "#     if data_type.split('_')[0] == 'mnist':\n",
    "#         test_freq = 100 \n",
    "#         tick_spacing = 20 \n",
    "#     else:\n",
    "#         test_freq = 10 \n",
    "#         tick_spacing = 200\n",
    "#     for trconfig in trconfigs:\n",
    "#         for beta in betas:\n",
    "#             for lr in lrs:\n",
    "#                 for rbf_sigma in rbf_sigmas:\n",
    "#                     try:\n",
    "#                         plot_realworld_experiment(data_type, trconfig, beta, rbf_sigma, lr, tick_spacing=tick_spacing,test_freq=test_freq, policy=policy)\n",
    "#                     except: \n",
    "#                         fname =  'online_{}_cf={}{}{}_beta={}_lr={}_rbfsigma={}.pdf'.format(data_type.split('_')[0],trconfig[0],trconfig[1],trconfig[2],beta,lr,rbf_sigma)\n",
    "#                         print('Not found {}'.format(fname))"
   ]
  },
  {
   "cell_type": "markdown",
   "metadata": {},
   "source": [
    "## Plot S-mode vs B-mode "
   ]
  },
  {
   "cell_type": "code",
   "execution_count": 9,
   "metadata": {},
   "outputs": [],
   "source": [
    "# def plot_smode_vs_bmode(name, beta, lr=0.001, figshow=False, legendloc=None, save=True, tick_spacing=200, test_freq=10, policy='eps-greedy'):\n",
    "#     res_dir = os.path.join('results', name)\n",
    "#     smode = (1,1,1)\n",
    "#     bmode = (100,-1,50)\n",
    "#     approx_neural_smode = 'approx-neural-gridsearch_epochs={}_m=100_layern=True_buffer={}_bs={}_lr={}_beta={}_lambda=0.0001_lambda0=0.1.npz'.format(smode[0],smode[1],smode[2],lr,beta)    \n",
    "#     approx_neural_bmode = 'approx-neural-gridsearch_epochs={}_m=100_layern=True_buffer={}_bs={}_lr={}_beta={}_lambda=0.0001_lambda0=0.1.npz'.format(bmode[0],bmode[1],bmode[2],lr,beta)\n",
    "    \n",
    "#     neural_greedy_smode = 'neural-greedy-gridsearch_epochs={}_m=100_layern=True_buffer={}_bs={}_lr={}_lambda=0.0001.npz'.format(smode[0],smode[1],smode[2],lr)\n",
    "#     neural_greedy_bmode = 'neural-greedy-gridsearch_epochs={}_m=100_layern=True_buffer={}_bs={}_lr={}_lambda=0.0001.npz'.format(bmode[0],bmode[1],bmode[2],lr)\n",
    "\n",
    "\n",
    "#     neuralcb_s = np.load(os.path.join(res_dir,approx_neural_smode))['arr_0']\n",
    "#     neuralcb_b = np.load(os.path.join(res_dir,approx_neural_bmode))['arr_0']\n",
    "    \n",
    "    \n",
    "#     neuralgreedy_s = np.load(os.path.join(res_dir,neural_greedy_smode))['arr_0']\n",
    "#     neuralgreedy_b = np.load(os.path.join(res_dir,neural_greedy_bmode))['arr_0']\n",
    "\n",
    "\n",
    "#     # Read data \n",
    "#     arrs = (neuralcb_s, neuralcb_b, neuralgreedy_s, neuralgreedy_b)\n",
    "#     algos = ['NeuraLCB(S-mode)', 'NeuraLCB(B-mode)', 'NeuralGreedy(S-mode)', 'NeuralGreedy(B-mode)']\n",
    "#     regrets = [] \n",
    "#     i = 0\n",
    "#     for a in arrs:\n",
    "#         for i in range(1,a.shape[1]):\n",
    "#             regrets.append(a[:,i,:])\n",
    "\n",
    "#     # Plot\n",
    "#     filename = 'mode_{}_beta={}_lr={}_policy={}.pdf'.format(name.split('_')[0],beta,lr, policy)\n",
    "#     print(filename)\n",
    "#     plot(algos, regrets, cumsum=False, filename=filename if save else None, figshow=figshow, legendloc=legendloc, tick_spacing=tick_spacing, test_freq=test_freq)"
   ]
  },
  {
   "cell_type": "code",
   "execution_count": 10,
   "metadata": {},
   "outputs": [],
   "source": [
    "# data_types = [\n",
    "#             #  'mushroom_d=117_a=2_pi=eps-greedy0.1_std=0',\n",
    "#             #   'statlog_d=10_a=7_pi=eps-greedy0.1_std=0',\n",
    "              \n",
    "#               'sepsis_d=13_a=2_pi=eps-greedy0.1_std=0.01'\n",
    "              \n",
    "\n",
    "#               #'stock_d=21_a=8_pi=eps-greedy0.1_std=0.1',\n",
    "#               #'jester_d=32_a=8_pi=eps-greedy0.1_std=0.1', \n",
    "#               #'covertype_d=54_a=7_pi=eps-greedy0.1_std=0', \n",
    "#               #'census_d=387_a=9_pi=eps-greedy0.1_std=0.0',\n",
    "# #               'adult_d=92_a=14_pi=eps-greedy0.1_std=0.0',\n",
    "# #             'mnist_d=784_a=10_pi=eps-greedy0.1_std=0'    \n",
    "#             ]\n",
    "# policy='eps-greedy'\n",
    "# test_freq = 10 # for mnist\n",
    "# tick_spacing = 200  # mnist, 200 for other data\n",
    "# betas = [0.01,0.05,1.0,5.0, 10.0]\n",
    "# # lrs = [0.001,0.0001]\n",
    "# lrs = [0.0001]\n",
    "# for data_type in data_types:\n",
    "#     if data_type.split('_') == 'mnist':\n",
    "#         test_freq = 100 \n",
    "#         tick_spacing=20\n",
    "#     for beta in betas:\n",
    "#         for lr in lrs:\n",
    "#             #try:\n",
    "#             plot_smode_vs_bmode(data_type, beta, lr, tick_spacing=tick_spacing,test_freq=test_freq,policy=policy)\n",
    "#             #except: \n",
    "#             #    fname =  '{}_beta={}_lr={}.pdf'.format(data_type.split('_')[0],beta,lr)\n",
    "#             #    print('Not found {}'.format(fname))"
   ]
  },
  {
   "cell_type": "code",
   "execution_count": null,
   "metadata": {},
   "outputs": [],
   "source": []
  }
 ],
 "metadata": {
  "kernelspec": {
   "display_name": "jax_tf28",
   "language": "python",
   "name": "python3"
  },
  "language_info": {
   "codemirror_mode": {
    "name": "ipython",
    "version": 3
   },
   "file_extension": ".py",
   "mimetype": "text/x-python",
   "name": "python",
   "nbconvert_exporter": "python",
   "pygments_lexer": "ipython3",
   "version": "3.9.19"
  }
 },
 "nbformat": 4,
 "nbformat_minor": 2
}
